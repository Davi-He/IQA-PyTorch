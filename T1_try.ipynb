{
 "cells": [
  {
   "cell_type": "code",
   "execution_count": 4,
   "metadata": {},
   "outputs": [
    {
     "name": "stdout",
     "output_type": "stream",
     "text": [
      "['ahiq', 'brisque', 'ckdn', 'cnniqa', 'cw_ssim', 'dbcnn', 'dists', 'fid', 'fsim', 'gmsd', 'ilniqe', 'lpips', 'lpips-vgg', 'mad', 'maniqa', 'ms_ssim', 'musiq', 'musiq-ava', 'musiq-koniq', 'musiq-paq2piq', 'musiq-spaq', 'nima', 'nima-vgg16-ava', 'niqe', 'nlpd', 'nrqm', 'paq2piq', 'pi', 'pieapp', 'psnr', 'psnry', 'ssim', 'ssimc', 'vif', 'vsi']\n",
      "Loading pretrained model LPIPS from /home/vscode/.cache/torch/hub/checkpoints/LPIPS_v0.1_alex-df73285e.pth\n",
      "Loading pretrained model LPIPS from /home/vscode/.cache/torch/hub/checkpoints/LPIPS_v0.1_alex-df73285e.pth\n",
      "True\n",
      "Loading pretrained model Inception3 from /home/vscode/.cache/torch/hub/checkpoints/pt_inception-2015-12-05-6726825d.pth\n",
      "Found 5 images in the folder ./ResultsCalibra/dist_dir/\n"
     ]
    },
    {
     "name": "stderr",
     "output_type": "stream",
     "text": [
      "FID : 100%|██████████| 1/1 [00:00<00:00,  3.28it/s]\n"
     ]
    },
    {
     "name": "stdout",
     "output_type": "stream",
     "text": [
      "Found 5 images in the folder ./ResultsCalibra/ref_dir\n"
     ]
    },
    {
     "name": "stderr",
     "output_type": "stream",
     "text": [
      "FID ref_dir: 100%|██████████| 1/1 [00:00<00:00,  3.10it/s]\n"
     ]
    },
    {
     "name": "stdout",
     "output_type": "stream",
     "text": [
      "compute FID of a folder with FFHQ-clean-trainval70k-1024 statistics\n",
      "Found 5 images in the folder ./ResultsCalibra/dist_dir/\n"
     ]
    },
    {
     "name": "stderr",
     "output_type": "stream",
     "text": [
      "FID : 100%|██████████| 1/1 [00:00<00:00,  3.42it/s]\n"
     ]
    }
   ],
   "source": [
    "import pyiqa\n",
    "import torch\n",
    "\n",
    "# list all available metrics\n",
    "print(pyiqa.list_models())\n",
    "\n",
    "# create metric with default setting\n",
    "iqa_metric = pyiqa.create_metric('lpips', device=torch.device('cuda'))\n",
    "# Note that gradient propagation is disabled by default. set as_loss=True to enable it as a loss function.\n",
    "iqa_loss = pyiqa.create_metric('lpips', device=torch.device('cuda'), as_loss=True)\n",
    "\n",
    "# create metric with custom setting\n",
    "# iqa_metric = pyiqa.create_metric('psnr', test_y_channel=True, color_space='ycbcr').to(device)\n",
    "\n",
    "# check if lower better or higher better\n",
    "print(iqa_metric.lower_better)\n",
    "\n",
    "# example for iqa score inference\n",
    "# Tensor inputs, img_tensor_x/y: (N, 3, H, W), RGB, 0 ~ 1\n",
    "# score_fr = iqa_metric(img_tensor_x, img_tensor_y)\n",
    "# score_nr = iqa_metric(img_tensor_x)\n",
    "\n",
    "# img path as inputs.\n",
    "score_fr = iqa_metric('./ResultsCalibra/dist_dir/I03.bmp', './ResultsCalibra/ref_dir/I03.bmp')\n",
    "\n",
    "# For FID metric, use directory or precomputed statistics as inputs\n",
    "# refer to clean-fid for more details: https://github.com/GaParmar/clean-fid\n",
    "fid_metric = pyiqa.create_metric('fid')\n",
    "score = fid_metric('./ResultsCalibra/dist_dir/', './ResultsCalibra/ref_dir')\n",
    "score = fid_metric('./ResultsCalibra/dist_dir/', dataset_name=\"FFHQ\", dataset_res=1024, dataset_split=\"trainval70k\")\n"
   ]
  },
  {
   "cell_type": "code",
   "execution_count": null,
   "metadata": {},
   "outputs": [],
   "source": [
    "LIVEChallenge"
   ]
  }
 ],
 "metadata": {
  "kernelspec": {
   "display_name": "Python 3",
   "language": "python",
   "name": "python3"
  },
  "language_info": {
   "codemirror_mode": {
    "name": "ipython",
    "version": 3
   },
   "file_extension": ".py",
   "mimetype": "text/x-python",
   "name": "python",
   "nbconvert_exporter": "python",
   "pygments_lexer": "ipython3",
   "version": "3.10.6"
  },
  "orig_nbformat": 4,
  "vscode": {
   "interpreter": {
    "hash": "eb4a0ac80907d7f44e1a5e88d3d3381b33e3dbedd3a24d113e876f30a0c46bee"
   }
  }
 },
 "nbformat": 4,
 "nbformat_minor": 2
}
